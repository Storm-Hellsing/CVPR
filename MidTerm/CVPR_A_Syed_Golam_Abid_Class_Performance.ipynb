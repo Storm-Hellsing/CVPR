{
  "cells": [
    {
      "cell_type": "code",
      "execution_count": 1,
      "metadata": {
        "colab": {
          "base_uri": "https://localhost:8080/"
        },
        "id": "3ayUvfLCO8-E",
        "outputId": "695d7707-ea85-4cf3-bba0-9eff106c0ba1"
      },
      "outputs": [
        {
          "output_type": "stream",
          "name": "stdout",
          "text": [
            "Mounted at /content/drive\n"
          ]
        }
      ],
      "source": [
        "from google.colab import drive\n",
        "drive.mount('/content/drive')"
      ]
    },
    {
      "cell_type": "code",
      "execution_count": 2,
      "metadata": {
        "id": "XDcPOiEvO8-Q"
      },
      "outputs": [],
      "source": [
        "import os\n",
        "import numpy as np\n",
        "import random\n",
        "import matplotlib.pyplot as plt\n",
        "import cv2\n",
        "from tqdm import tqdm\n"
      ]
    },
    {
      "cell_type": "code",
      "execution_count": 3,
      "metadata": {
        "id": "0IV98F2jO8-T"
      },
      "outputs": [],
      "source": [
        "DATA_PATH =\"/content/drive/MyDrive/CIFAR_10_IMAGES/train\""
      ]
    },
    {
      "cell_type": "code",
      "execution_count": 4,
      "metadata": {
        "colab": {
          "base_uri": "https://localhost:8080/"
        },
        "id": "klMzK19CO8-V",
        "outputId": "3f5c063d-44c7-403a-870b-57e520b6b52e"
      },
      "outputs": [
        {
          "output_type": "stream",
          "name": "stdout",
          "text": [
            "/content/drive/MyDrive/CIFAR_10_IMAGES/train/horse\n"
          ]
        },
        {
          "output_type": "stream",
          "name": "stderr",
          "text": [
            "100%|██████████| 20/20 [00:09<00:00,  2.22it/s]\n"
          ]
        },
        {
          "output_type": "stream",
          "name": "stdout",
          "text": [
            "/content/drive/MyDrive/CIFAR_10_IMAGES/train/dog\n"
          ]
        },
        {
          "output_type": "stream",
          "name": "stderr",
          "text": [
            "0it [00:00, ?it/s]\n"
          ]
        },
        {
          "output_type": "stream",
          "name": "stdout",
          "text": [
            "/content/drive/MyDrive/CIFAR_10_IMAGES/train/cat\n"
          ]
        },
        {
          "output_type": "stream",
          "name": "stderr",
          "text": [
            "0it [00:00, ?it/s]"
          ]
        },
        {
          "output_type": "stream",
          "name": "stdout",
          "text": [
            "20\n"
          ]
        },
        {
          "output_type": "stream",
          "name": "stderr",
          "text": [
            "\n"
          ]
        }
      ],
      "source": [
        "CATAGORIES=os.listdir(DATA_PATH)\n",
        "TRAIN_DATA =[]\n",
        "\n",
        "for c in CATAGORIES:\n",
        "  path=os.path.join(DATA_PATH,c)\n",
        "  print(path)\n",
        "  for img in tqdm(os.listdir(path)):\n",
        "   img_arr = cv2.imread(os.path.join(path,img),cv2.IMREAD_GRAYSCALE)\n",
        "   TRAIN_DATA.append([img_arr,CATAGORIES.index(c)])\n",
        "\n",
        "\n",
        "print(len(TRAIN_DATA))\n",
        "random.shuffle(TRAIN_DATA)\n"
      ]
    },
    {
      "cell_type": "code",
      "execution_count": 5,
      "metadata": {
        "colab": {
          "base_uri": "https://localhost:8080/"
        },
        "id": "c_Y24AoRO8-X",
        "outputId": "14817f5b-7de2-44dd-e0cc-dbaee7d3a2db"
      },
      "outputs": [
        {
          "output_type": "stream",
          "name": "stdout",
          "text": [
            "(32, 32) 2\n",
            "(32, 32) 2\n",
            "(32, 32) 2\n",
            "(32, 32) 2\n",
            "(32, 32) 2\n",
            "(32, 32) 2\n",
            "(32, 32) 2\n",
            "(32, 32) 2\n",
            "(32, 32) 2\n",
            "(32, 32) 2\n"
          ]
        }
      ],
      "source": [
        "for i in TRAIN_DATA[:10]:\n",
        "    img_arr, category_index = i  # Unpack the elements in the list\n",
        "    print(img_arr.shape,CATAGORIES.index(c))\n",
        "\n",
        "   #img_arr = cv2.resize(img_arr,(64,64))\n",
        "\n"
      ]
    },
    {
      "cell_type": "code",
      "execution_count": 6,
      "metadata": {
        "colab": {
          "base_uri": "https://localhost:8080/",
          "height": 254
        },
        "id": "GxU6d3tMO8-Z",
        "outputId": "b2643ca5-01b1-4e2a-a4e0-353dc4e9c9a3"
      },
      "outputs": [
        {
          "output_type": "execute_result",
          "data": {
            "text/plain": [
              "Text(0.5, 0, '2')"
            ]
          },
          "metadata": {},
          "execution_count": 6
        },
        {
          "output_type": "display_data",
          "data": {
            "text/plain": [
              "<Figure size 500x200 with 1 Axes>"
            ],
            "image/png": "[encoded data removed]"
          },
          "metadata": {}
        }
      ],
      "source": [
        "plt.figure(figsize=(5,2))\n",
        "plt.imshow(TRAIN_DATA[1][0], cmap = 'gray', aspect='equal')\n",
        "plt.xlabel(CATAGORIES.index(c))"
      ]
    }
  ],
  "metadata": {
    "language_info": {
      "name": "python"
    },
    "orig_nbformat": 4,
    "colab": {
      "provenance": []
    },
    "kernelspec": {
      "name": "python3",
      "display_name": "Python 3"
    }
  },
  "nbformat": 4,
  "nbformat_minor": 0
}